{
 "cells": [
  {
   "cell_type": "code",
   "execution_count": 1,
   "id": "b66ec540",
   "metadata": {},
   "outputs": [],
   "source": [
    "import pandas as pd\n",
    "from pathlib import Path\n",
    "import matplotlib.pyplot as plt\n",
    "from matplotlib.pyplot import figure\n",
    "from sklearn.linear_model import LinearRegression\n",
    "from datetime import datetime\n"
   ]
  },
  {
   "cell_type": "code",
   "execution_count": 2,
   "id": "e2199d31",
   "metadata": {},
   "outputs": [],
   "source": [
    "import datetime\n",
    "from astropy.time import Time"
   ]
  },
  {
   "cell_type": "code",
   "execution_count": 3,
   "id": "894fafce",
   "metadata": {},
   "outputs": [
    {
     "data": {
      "text/html": [
       "<div>\n",
       "<style scoped>\n",
       "    .dataframe tbody tr th:only-of-type {\n",
       "        vertical-align: middle;\n",
       "    }\n",
       "\n",
       "    .dataframe tbody tr th {\n",
       "        vertical-align: top;\n",
       "    }\n",
       "\n",
       "    .dataframe thead th {\n",
       "        text-align: right;\n",
       "    }\n",
       "</style>\n",
       "<table border=\"1\" class=\"dataframe\">\n",
       "  <thead>\n",
       "    <tr style=\"text-align: right;\">\n",
       "      <th></th>\n",
       "      <th>Incident Patient Care Report Number - PCR (eRecord.01)</th>\n",
       "      <th>Hospital Code</th>\n",
       "      <th>Disposition Destination Street Address (eDisposition.03)</th>\n",
       "      <th>Incident Patient Arrived At Destination Date Time (eTimes.11)</th>\n",
       "      <th>APOT</th>\n",
       "      <th>Incident Month Name - Year</th>\n",
       "      <th>Disposition Incident Patient Disposition (eDisposition.12)</th>\n",
       "      <th>Response Type Of Service Requested (eResponse.05)</th>\n",
       "      <th>Primary Impression</th>\n",
       "      <th>Type Of Destination</th>\n",
       "      <th>Agency Name (dAgency.03)</th>\n",
       "    </tr>\n",
       "  </thead>\n",
       "  <tbody>\n",
       "    <tr>\n",
       "      <th>0</th>\n",
       "      <td>00014386cc5a489d95150fa77c18976b</td>\n",
       "      <td>20288</td>\n",
       "      <td>7500 Hospital Drive</td>\n",
       "      <td>6/14/2017 11:49</td>\n",
       "      <td>3.70</td>\n",
       "      <td>Jun-17</td>\n",
       "      <td>Patient Treated, Transported</td>\n",
       "      <td>911 Response (Scene)</td>\n",
       "      <td>Abdominal Pain/Problems (GI/GU) (R10.84)</td>\n",
       "      <td>Hospital-Emergency Department</td>\n",
       "      <td>Sacramento Metropolitan Fire District</td>\n",
       "    </tr>\n",
       "    <tr>\n",
       "      <th>1</th>\n",
       "      <td>0002d0d228654a2f95493039ffff0736</td>\n",
       "      <td>20286</td>\n",
       "      <td>6501 Coyle Avenue</td>\n",
       "      <td>1/15/2017 23:38</td>\n",
       "      <td>45.25</td>\n",
       "      <td>Jan-17</td>\n",
       "      <td>Patient Treated, Transported</td>\n",
       "      <td>911 Response (Scene)</td>\n",
       "      <td>Chest Pain - Suspected Cardiac (I20.9)</td>\n",
       "      <td>Hospital-Emergency Department</td>\n",
       "      <td>Sacramento Metropolitan Fire District</td>\n",
       "    </tr>\n",
       "    <tr>\n",
       "      <th>2</th>\n",
       "      <td>000789122727426eb3f28f05f7f428c1</td>\n",
       "      <td>20197</td>\n",
       "      <td>2025 Morse Avenue</td>\n",
       "      <td>1/6/2017 15:01</td>\n",
       "      <td>18.22</td>\n",
       "      <td>Jan-17</td>\n",
       "      <td>Patient Treated, Transported</td>\n",
       "      <td>911 Response (Scene)</td>\n",
       "      <td>ALOC - (Not Hypoglycemia or Seizure) (R41.82)</td>\n",
       "      <td>Hospital-Emergency Department</td>\n",
       "      <td>Sacramento Metropolitan Fire District</td>\n",
       "    </tr>\n",
       "    <tr>\n",
       "      <th>3</th>\n",
       "      <td>00090bccf8da49168269ba2b0ced178c</td>\n",
       "      <td>20196</td>\n",
       "      <td>1600 Eureka Rd</td>\n",
       "      <td>2/5/2017 14:15</td>\n",
       "      <td>14.43</td>\n",
       "      <td>Feb-17</td>\n",
       "      <td>Patient Treated, Transported</td>\n",
       "      <td>911 Response (Scene)</td>\n",
       "      <td>Chest Pain - Not Cardiac (R07.89)</td>\n",
       "      <td>Hospital-Emergency Department</td>\n",
       "      <td>Sacramento Metropolitan Fire District</td>\n",
       "    </tr>\n",
       "    <tr>\n",
       "      <th>4</th>\n",
       "      <td>00096d540edb4c3ba8cf164ab80a1293</td>\n",
       "      <td>20286</td>\n",
       "      <td>6501 Coyle Avenue</td>\n",
       "      <td>1/5/2017 11:24</td>\n",
       "      <td>26.00</td>\n",
       "      <td>Jan-17</td>\n",
       "      <td>Patient Treated, Transported</td>\n",
       "      <td>911 Response (Scene)</td>\n",
       "      <td>Respiratory Distress/Bronchospasm (J98.01)</td>\n",
       "      <td>Hospital-Emergency Department</td>\n",
       "      <td>Sacramento Metropolitan Fire District</td>\n",
       "    </tr>\n",
       "  </tbody>\n",
       "</table>\n",
       "</div>"
      ],
      "text/plain": [
       "  Incident Patient Care Report Number - PCR (eRecord.01)  Hospital Code  \\\n",
       "0                   00014386cc5a489d95150fa77c18976b              20288   \n",
       "1                   0002d0d228654a2f95493039ffff0736              20286   \n",
       "2                   000789122727426eb3f28f05f7f428c1              20197   \n",
       "3                   00090bccf8da49168269ba2b0ced178c              20196   \n",
       "4                   00096d540edb4c3ba8cf164ab80a1293              20286   \n",
       "\n",
       "  Disposition Destination Street Address (eDisposition.03)  \\\n",
       "0                                7500 Hospital Drive         \n",
       "1                                  6501 Coyle Avenue         \n",
       "2                                  2025 Morse Avenue         \n",
       "3                                     1600 Eureka Rd         \n",
       "4                                  6501 Coyle Avenue         \n",
       "\n",
       "  Incident Patient Arrived At Destination Date Time (eTimes.11)   APOT  \\\n",
       "0                                    6/14/2017 11:49              3.70   \n",
       "1                                    1/15/2017 23:38             45.25   \n",
       "2                                     1/6/2017 15:01             18.22   \n",
       "3                                     2/5/2017 14:15             14.43   \n",
       "4                                     1/5/2017 11:24             26.00   \n",
       "\n",
       "  Incident Month Name - Year  \\\n",
       "0                     Jun-17   \n",
       "1                     Jan-17   \n",
       "2                     Jan-17   \n",
       "3                     Feb-17   \n",
       "4                     Jan-17   \n",
       "\n",
       "  Disposition Incident Patient Disposition (eDisposition.12)  \\\n",
       "0                       Patient Treated, Transported           \n",
       "1                       Patient Treated, Transported           \n",
       "2                       Patient Treated, Transported           \n",
       "3                       Patient Treated, Transported           \n",
       "4                       Patient Treated, Transported           \n",
       "\n",
       "  Response Type Of Service Requested (eResponse.05)  \\\n",
       "0                              911 Response (Scene)   \n",
       "1                              911 Response (Scene)   \n",
       "2                              911 Response (Scene)   \n",
       "3                              911 Response (Scene)   \n",
       "4                              911 Response (Scene)   \n",
       "\n",
       "                              Primary Impression  \\\n",
       "0       Abdominal Pain/Problems (GI/GU) (R10.84)   \n",
       "1         Chest Pain - Suspected Cardiac (I20.9)   \n",
       "2  ALOC - (Not Hypoglycemia or Seizure) (R41.82)   \n",
       "3              Chest Pain - Not Cardiac (R07.89)   \n",
       "4     Respiratory Distress/Bronchospasm (J98.01)   \n",
       "\n",
       "             Type Of Destination               Agency Name (dAgency.03)  \n",
       "0  Hospital-Emergency Department  Sacramento Metropolitan Fire District  \n",
       "1  Hospital-Emergency Department  Sacramento Metropolitan Fire District  \n",
       "2  Hospital-Emergency Department  Sacramento Metropolitan Fire District  \n",
       "3  Hospital-Emergency Department  Sacramento Metropolitan Fire District  \n",
       "4  Hospital-Emergency Department  Sacramento Metropolitan Fire District  "
      ]
     },
     "execution_count": 3,
     "metadata": {},
     "output_type": "execute_result"
    }
   ],
   "source": [
    "df = pd.read_csv(Path(\"JJ2017.csv\"))\n",
    "df.head()"
   ]
  },
  {
   "cell_type": "code",
   "execution_count": 4,
   "id": "e45c4314",
   "metadata": {},
   "outputs": [],
   "source": [
    "df = pd.DataFrame(df)"
   ]
  },
  {
   "cell_type": "code",
   "execution_count": 5,
   "id": "cfc74519",
   "metadata": {},
   "outputs": [
    {
     "data": {
      "text/plain": [
       "Incident Patient Care Report Number - PCR (eRecord.01)            object\n",
       "Hospital Code                                                      int64\n",
       "Disposition Destination Street Address (eDisposition.03)          object\n",
       "Incident Patient Arrived At Destination Date Time (eTimes.11)     object\n",
       "APOT                                                             float64\n",
       "Incident Month Name - Year                                        object\n",
       "Disposition Incident Patient Disposition (eDisposition.12)        object\n",
       "Response Type Of Service Requested (eResponse.05)                 object\n",
       "Primary Impression                                                object\n",
       "Type Of Destination                                               object\n",
       "Agency Name (dAgency.03)                                          object\n",
       "dtype: object"
      ]
     },
     "execution_count": 5,
     "metadata": {},
     "output_type": "execute_result"
    }
   ],
   "source": [
    "df.dtypes"
   ]
  },
  {
   "cell_type": "code",
   "execution_count": 7,
   "id": "63c8efd7",
   "metadata": {},
   "outputs": [
    {
     "ename": "TypeError",
     "evalue": "Cannot interpret '<module 'datetime' from 'C:\\\\Users\\\\emddr\\\\anaconda3\\\\envs\\\\mlenv\\\\lib\\\\datetime.py'>' as a data type",
     "output_type": "error",
     "traceback": [
      "\u001b[1;31m---------------------------------------------------------------------------\u001b[0m",
      "\u001b[1;31mTypeError\u001b[0m                                 Traceback (most recent call last)",
      "\u001b[1;32m~\\AppData\\Local\\Temp\\ipykernel_7056\\1358973786.py\u001b[0m in \u001b[0;36m<module>\u001b[1;34m\u001b[0m\n\u001b[1;32m----> 1\u001b[1;33m \u001b[0mdf\u001b[0m\u001b[1;33m[\u001b[0m\u001b[1;34m'Incident Patient Arrived At Destination Date Time (eTimes.11)'\u001b[0m\u001b[1;33m]\u001b[0m\u001b[1;33m.\u001b[0m\u001b[0mastype\u001b[0m\u001b[1;33m(\u001b[0m\u001b[0mdatetime\u001b[0m\u001b[1;33m)\u001b[0m\u001b[1;33m\u001b[0m\u001b[1;33m\u001b[0m\u001b[0m\n\u001b[0m",
      "\u001b[1;32m~\\anaconda3\\envs\\mlenv\\lib\\site-packages\\pandas\\core\\generic.py\u001b[0m in \u001b[0;36mastype\u001b[1;34m(self, dtype, copy, errors)\u001b[0m\n\u001b[0;32m   5813\u001b[0m         \u001b[1;32melse\u001b[0m\u001b[1;33m:\u001b[0m\u001b[1;33m\u001b[0m\u001b[1;33m\u001b[0m\u001b[0m\n\u001b[0;32m   5814\u001b[0m             \u001b[1;31m# else, only a single dtype is given\u001b[0m\u001b[1;33m\u001b[0m\u001b[1;33m\u001b[0m\u001b[1;33m\u001b[0m\u001b[0m\n\u001b[1;32m-> 5815\u001b[1;33m             \u001b[0mnew_data\u001b[0m \u001b[1;33m=\u001b[0m \u001b[0mself\u001b[0m\u001b[1;33m.\u001b[0m\u001b[0m_mgr\u001b[0m\u001b[1;33m.\u001b[0m\u001b[0mastype\u001b[0m\u001b[1;33m(\u001b[0m\u001b[0mdtype\u001b[0m\u001b[1;33m=\u001b[0m\u001b[0mdtype\u001b[0m\u001b[1;33m,\u001b[0m \u001b[0mcopy\u001b[0m\u001b[1;33m=\u001b[0m\u001b[0mcopy\u001b[0m\u001b[1;33m,\u001b[0m \u001b[0merrors\u001b[0m\u001b[1;33m=\u001b[0m\u001b[0merrors\u001b[0m\u001b[1;33m)\u001b[0m\u001b[1;33m\u001b[0m\u001b[1;33m\u001b[0m\u001b[0m\n\u001b[0m\u001b[0;32m   5816\u001b[0m             \u001b[1;32mreturn\u001b[0m \u001b[0mself\u001b[0m\u001b[1;33m.\u001b[0m\u001b[0m_constructor\u001b[0m\u001b[1;33m(\u001b[0m\u001b[0mnew_data\u001b[0m\u001b[1;33m)\u001b[0m\u001b[1;33m.\u001b[0m\u001b[0m__finalize__\u001b[0m\u001b[1;33m(\u001b[0m\u001b[0mself\u001b[0m\u001b[1;33m,\u001b[0m \u001b[0mmethod\u001b[0m\u001b[1;33m=\u001b[0m\u001b[1;34m\"astype\"\u001b[0m\u001b[1;33m)\u001b[0m\u001b[1;33m\u001b[0m\u001b[1;33m\u001b[0m\u001b[0m\n\u001b[0;32m   5817\u001b[0m \u001b[1;33m\u001b[0m\u001b[0m\n",
      "\u001b[1;32m~\\anaconda3\\envs\\mlenv\\lib\\site-packages\\pandas\\core\\internals\\managers.py\u001b[0m in \u001b[0;36mastype\u001b[1;34m(self, dtype, copy, errors)\u001b[0m\n\u001b[0;32m    416\u001b[0m \u001b[1;33m\u001b[0m\u001b[0m\n\u001b[0;32m    417\u001b[0m     \u001b[1;32mdef\u001b[0m \u001b[0mastype\u001b[0m\u001b[1;33m(\u001b[0m\u001b[0mself\u001b[0m\u001b[1;33m:\u001b[0m \u001b[0mT\u001b[0m\u001b[1;33m,\u001b[0m \u001b[0mdtype\u001b[0m\u001b[1;33m,\u001b[0m \u001b[0mcopy\u001b[0m\u001b[1;33m:\u001b[0m \u001b[0mbool\u001b[0m \u001b[1;33m=\u001b[0m \u001b[1;32mFalse\u001b[0m\u001b[1;33m,\u001b[0m \u001b[0merrors\u001b[0m\u001b[1;33m:\u001b[0m \u001b[0mstr\u001b[0m \u001b[1;33m=\u001b[0m \u001b[1;34m\"raise\"\u001b[0m\u001b[1;33m)\u001b[0m \u001b[1;33m->\u001b[0m \u001b[0mT\u001b[0m\u001b[1;33m:\u001b[0m\u001b[1;33m\u001b[0m\u001b[1;33m\u001b[0m\u001b[0m\n\u001b[1;32m--> 418\u001b[1;33m         \u001b[1;32mreturn\u001b[0m \u001b[0mself\u001b[0m\u001b[1;33m.\u001b[0m\u001b[0mapply\u001b[0m\u001b[1;33m(\u001b[0m\u001b[1;34m\"astype\"\u001b[0m\u001b[1;33m,\u001b[0m \u001b[0mdtype\u001b[0m\u001b[1;33m=\u001b[0m\u001b[0mdtype\u001b[0m\u001b[1;33m,\u001b[0m \u001b[0mcopy\u001b[0m\u001b[1;33m=\u001b[0m\u001b[0mcopy\u001b[0m\u001b[1;33m,\u001b[0m \u001b[0merrors\u001b[0m\u001b[1;33m=\u001b[0m\u001b[0merrors\u001b[0m\u001b[1;33m)\u001b[0m\u001b[1;33m\u001b[0m\u001b[1;33m\u001b[0m\u001b[0m\n\u001b[0m\u001b[0;32m    419\u001b[0m \u001b[1;33m\u001b[0m\u001b[0m\n\u001b[0;32m    420\u001b[0m     def convert(\n",
      "\u001b[1;32m~\\anaconda3\\envs\\mlenv\\lib\\site-packages\\pandas\\core\\internals\\managers.py\u001b[0m in \u001b[0;36mapply\u001b[1;34m(self, f, align_keys, ignore_failures, **kwargs)\u001b[0m\n\u001b[0;32m    325\u001b[0m                     \u001b[0mapplied\u001b[0m \u001b[1;33m=\u001b[0m \u001b[0mb\u001b[0m\u001b[1;33m.\u001b[0m\u001b[0mapply\u001b[0m\u001b[1;33m(\u001b[0m\u001b[0mf\u001b[0m\u001b[1;33m,\u001b[0m \u001b[1;33m**\u001b[0m\u001b[0mkwargs\u001b[0m\u001b[1;33m)\u001b[0m\u001b[1;33m\u001b[0m\u001b[1;33m\u001b[0m\u001b[0m\n\u001b[0;32m    326\u001b[0m                 \u001b[1;32melse\u001b[0m\u001b[1;33m:\u001b[0m\u001b[1;33m\u001b[0m\u001b[1;33m\u001b[0m\u001b[0m\n\u001b[1;32m--> 327\u001b[1;33m                     \u001b[0mapplied\u001b[0m \u001b[1;33m=\u001b[0m \u001b[0mgetattr\u001b[0m\u001b[1;33m(\u001b[0m\u001b[0mb\u001b[0m\u001b[1;33m,\u001b[0m \u001b[0mf\u001b[0m\u001b[1;33m)\u001b[0m\u001b[1;33m(\u001b[0m\u001b[1;33m**\u001b[0m\u001b[0mkwargs\u001b[0m\u001b[1;33m)\u001b[0m\u001b[1;33m\u001b[0m\u001b[1;33m\u001b[0m\u001b[0m\n\u001b[0m\u001b[0;32m    328\u001b[0m             \u001b[1;32mexcept\u001b[0m \u001b[1;33m(\u001b[0m\u001b[0mTypeError\u001b[0m\u001b[1;33m,\u001b[0m \u001b[0mNotImplementedError\u001b[0m\u001b[1;33m)\u001b[0m\u001b[1;33m:\u001b[0m\u001b[1;33m\u001b[0m\u001b[1;33m\u001b[0m\u001b[0m\n\u001b[0;32m    329\u001b[0m                 \u001b[1;32mif\u001b[0m \u001b[1;32mnot\u001b[0m \u001b[0mignore_failures\u001b[0m\u001b[1;33m:\u001b[0m\u001b[1;33m\u001b[0m\u001b[1;33m\u001b[0m\u001b[0m\n",
      "\u001b[1;32m~\\anaconda3\\envs\\mlenv\\lib\\site-packages\\pandas\\core\\internals\\blocks.py\u001b[0m in \u001b[0;36mastype\u001b[1;34m(self, dtype, copy, errors)\u001b[0m\n\u001b[0;32m    589\u001b[0m         \u001b[0mvalues\u001b[0m \u001b[1;33m=\u001b[0m \u001b[0mself\u001b[0m\u001b[1;33m.\u001b[0m\u001b[0mvalues\u001b[0m\u001b[1;33m\u001b[0m\u001b[1;33m\u001b[0m\u001b[0m\n\u001b[0;32m    590\u001b[0m \u001b[1;33m\u001b[0m\u001b[0m\n\u001b[1;32m--> 591\u001b[1;33m         \u001b[0mnew_values\u001b[0m \u001b[1;33m=\u001b[0m \u001b[0mastype_array_safe\u001b[0m\u001b[1;33m(\u001b[0m\u001b[0mvalues\u001b[0m\u001b[1;33m,\u001b[0m \u001b[0mdtype\u001b[0m\u001b[1;33m,\u001b[0m \u001b[0mcopy\u001b[0m\u001b[1;33m=\u001b[0m\u001b[0mcopy\u001b[0m\u001b[1;33m,\u001b[0m \u001b[0merrors\u001b[0m\u001b[1;33m=\u001b[0m\u001b[0merrors\u001b[0m\u001b[1;33m)\u001b[0m\u001b[1;33m\u001b[0m\u001b[1;33m\u001b[0m\u001b[0m\n\u001b[0m\u001b[0;32m    592\u001b[0m \u001b[1;33m\u001b[0m\u001b[0m\n\u001b[0;32m    593\u001b[0m         \u001b[0mnew_values\u001b[0m \u001b[1;33m=\u001b[0m \u001b[0mmaybe_coerce_values\u001b[0m\u001b[1;33m(\u001b[0m\u001b[0mnew_values\u001b[0m\u001b[1;33m)\u001b[0m\u001b[1;33m\u001b[0m\u001b[1;33m\u001b[0m\u001b[0m\n",
      "\u001b[1;32m~\\anaconda3\\envs\\mlenv\\lib\\site-packages\\pandas\\core\\dtypes\\cast.py\u001b[0m in \u001b[0;36mastype_array_safe\u001b[1;34m(values, dtype, copy, errors)\u001b[0m\n\u001b[0;32m   1304\u001b[0m         \u001b[1;32mraise\u001b[0m \u001b[0mTypeError\u001b[0m\u001b[1;33m(\u001b[0m\u001b[0mmsg\u001b[0m\u001b[1;33m)\u001b[0m\u001b[1;33m\u001b[0m\u001b[1;33m\u001b[0m\u001b[0m\n\u001b[0;32m   1305\u001b[0m \u001b[1;33m\u001b[0m\u001b[0m\n\u001b[1;32m-> 1306\u001b[1;33m     \u001b[0mdtype\u001b[0m \u001b[1;33m=\u001b[0m \u001b[0mpandas_dtype\u001b[0m\u001b[1;33m(\u001b[0m\u001b[0mdtype\u001b[0m\u001b[1;33m)\u001b[0m\u001b[1;33m\u001b[0m\u001b[1;33m\u001b[0m\u001b[0m\n\u001b[0m\u001b[0;32m   1307\u001b[0m \u001b[1;33m\u001b[0m\u001b[0m\n\u001b[0;32m   1308\u001b[0m     \u001b[1;32mtry\u001b[0m\u001b[1;33m:\u001b[0m\u001b[1;33m\u001b[0m\u001b[1;33m\u001b[0m\u001b[0m\n",
      "\u001b[1;32m~\\anaconda3\\envs\\mlenv\\lib\\site-packages\\pandas\\core\\dtypes\\common.py\u001b[0m in \u001b[0;36mpandas_dtype\u001b[1;34m(dtype)\u001b[0m\n\u001b[0;32m   1774\u001b[0m     \u001b[1;31m# raise a consistent TypeError if failed\u001b[0m\u001b[1;33m\u001b[0m\u001b[1;33m\u001b[0m\u001b[1;33m\u001b[0m\u001b[0m\n\u001b[0;32m   1775\u001b[0m     \u001b[1;32mtry\u001b[0m\u001b[1;33m:\u001b[0m\u001b[1;33m\u001b[0m\u001b[1;33m\u001b[0m\u001b[0m\n\u001b[1;32m-> 1776\u001b[1;33m         \u001b[0mnpdtype\u001b[0m \u001b[1;33m=\u001b[0m \u001b[0mnp\u001b[0m\u001b[1;33m.\u001b[0m\u001b[0mdtype\u001b[0m\u001b[1;33m(\u001b[0m\u001b[0mdtype\u001b[0m\u001b[1;33m)\u001b[0m\u001b[1;33m\u001b[0m\u001b[1;33m\u001b[0m\u001b[0m\n\u001b[0m\u001b[0;32m   1777\u001b[0m     \u001b[1;32mexcept\u001b[0m \u001b[0mSyntaxError\u001b[0m \u001b[1;32mas\u001b[0m \u001b[0merr\u001b[0m\u001b[1;33m:\u001b[0m\u001b[1;33m\u001b[0m\u001b[1;33m\u001b[0m\u001b[0m\n\u001b[0;32m   1778\u001b[0m         \u001b[1;31m# np.dtype uses `eval` which can raise SyntaxError\u001b[0m\u001b[1;33m\u001b[0m\u001b[1;33m\u001b[0m\u001b[1;33m\u001b[0m\u001b[0m\n",
      "\u001b[1;31mTypeError\u001b[0m: Cannot interpret '<module 'datetime' from 'C:\\\\Users\\\\emddr\\\\anaconda3\\\\envs\\\\mlenv\\\\lib\\\\datetime.py'>' as a data type"
     ]
    }
   ],
   "source": [
    "df['Incident Patient Arrived At Destination Date Time (eTimes.11)'].astype(datetime)"
   ]
  },
  {
   "cell_type": "code",
   "execution_count": null,
   "id": "55c858c8",
   "metadata": {},
   "outputs": [],
   "source": [
    "df = pd.to_datetime(df['arrival_time']).hour\n"
   ]
  },
  {
   "cell_type": "code",
   "execution_count": null,
   "id": "ec825759",
   "metadata": {},
   "outputs": [],
   "source": [
    "df.dtypes"
   ]
  },
  {
   "cell_type": "code",
   "execution_count": null,
   "id": "31d12d40",
   "metadata": {},
   "outputs": [],
   "source": []
  },
  {
   "cell_type": "code",
   "execution_count": null,
   "id": "3743c2a3",
   "metadata": {},
   "outputs": [],
   "source": [
    "def conversion_function(t):\n",
    "    (h, m, s) = t.split(':')\n",
    "    return int(h) + int(m)/60 + int(s)"
   ]
  },
  {
   "cell_type": "code",
   "execution_count": null,
   "id": "9b231087",
   "metadata": {},
   "outputs": [],
   "source": []
  },
  {
   "cell_type": "code",
   "execution_count": null,
   "id": "3009a8dd",
   "metadata": {},
   "outputs": [],
   "source": [
    "X = df.APOT.values.reshape(-1, 1)"
   ]
  }
 ],
 "metadata": {
  "kernelspec": {
   "display_name": "mlenv",
   "language": "python",
   "name": "mlenv"
  },
  "language_info": {
   "codemirror_mode": {
    "name": "ipython",
    "version": 3
   },
   "file_extension": ".py",
   "mimetype": "text/x-python",
   "name": "python",
   "nbconvert_exporter": "python",
   "pygments_lexer": "ipython3",
   "version": "3.7.13"
  }
 },
 "nbformat": 4,
 "nbformat_minor": 5
}
