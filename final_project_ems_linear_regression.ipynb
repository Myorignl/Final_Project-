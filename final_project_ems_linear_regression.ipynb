{
 "cells": [
  {
   "cell_type": "code",
   "execution_count": 1,
   "metadata": {},
   "outputs": [],
   "source": [
    "import pandas as pd\n",
    "from pathlib import Path\n",
    "import matplotlib.pyplot as plt\n",
    "from sklearn.linear_model import LinearRegression"
   ]
  },
  {
   "cell_type": "code",
   "execution_count": 3,
   "metadata": {},
   "outputs": [
    {
     "data": {
      "text/html": [
       "<div>\n",
       "<style scoped>\n",
       "    .dataframe tbody tr th:only-of-type {\n",
       "        vertical-align: middle;\n",
       "    }\n",
       "\n",
       "    .dataframe tbody tr th {\n",
       "        vertical-align: top;\n",
       "    }\n",
       "\n",
       "    .dataframe thead th {\n",
       "        text-align: right;\n",
       "    }\n",
       "</style>\n",
       "<table border=\"1\" class=\"dataframe\">\n",
       "  <thead>\n",
       "    <tr style=\"text-align: right;\">\n",
       "      <th></th>\n",
       "      <th>index</th>\n",
       "      <th>ID</th>\n",
       "      <th>Hospital_Code</th>\n",
       "      <th>Date</th>\n",
       "      <th>APOT</th>\n",
       "      <th>Impression</th>\n",
       "      <th>Postal_Code</th>\n",
       "      <th>AgencyNumber</th>\n",
       "      <th>Agency_Unit</th>\n",
       "      <th>Lat</th>\n",
       "      <th>Long</th>\n",
       "      <th>Status</th>\n",
       "    </tr>\n",
       "  </thead>\n",
       "  <tbody>\n",
       "    <tr>\n",
       "      <th>0</th>\n",
       "      <td>0</td>\n",
       "      <td>776</td>\n",
       "      <td>508</td>\n",
       "      <td>7/19/2017</td>\n",
       "      <td>6.0</td>\n",
       "      <td>T14.90</td>\n",
       "      <td>95820</td>\n",
       "      <td>92905</td>\n",
       "      <td>92905-M22</td>\n",
       "      <td>38.554938</td>\n",
       "      <td>-121.456751</td>\n",
       "      <td>0 (&lt; 20 min)</td>\n",
       "    </tr>\n",
       "    <tr>\n",
       "      <th>1</th>\n",
       "      <td>1</td>\n",
       "      <td>824</td>\n",
       "      <td>508</td>\n",
       "      <td>8/20/2017</td>\n",
       "      <td>10.0</td>\n",
       "      <td>G89.1</td>\n",
       "      <td>95831</td>\n",
       "      <td>92905</td>\n",
       "      <td>92905-M17</td>\n",
       "      <td>38.554938</td>\n",
       "      <td>-121.456751</td>\n",
       "      <td>0 (&lt; 20 min)</td>\n",
       "    </tr>\n",
       "    <tr>\n",
       "      <th>2</th>\n",
       "      <td>2</td>\n",
       "      <td>854</td>\n",
       "      <td>197</td>\n",
       "      <td>9/8/2017</td>\n",
       "      <td>20.0</td>\n",
       "      <td>T14.90</td>\n",
       "      <td>95608</td>\n",
       "      <td>92905</td>\n",
       "      <td>92905-M17</td>\n",
       "      <td>38.601860</td>\n",
       "      <td>-121.391908</td>\n",
       "      <td>0 (&lt; 20 min)</td>\n",
       "    </tr>\n",
       "    <tr>\n",
       "      <th>3</th>\n",
       "      <td>3</td>\n",
       "      <td>867</td>\n",
       "      <td>475</td>\n",
       "      <td>9/14/2017</td>\n",
       "      <td>30.0</td>\n",
       "      <td>R53.1</td>\n",
       "      <td>95624</td>\n",
       "      <td>92905</td>\n",
       "      <td>92905-M23</td>\n",
       "      <td>38.570890</td>\n",
       "      <td>-121.469532</td>\n",
       "      <td>1 (21 - 60 min)</td>\n",
       "    </tr>\n",
       "    <tr>\n",
       "      <th>4</th>\n",
       "      <td>4</td>\n",
       "      <td>951</td>\n",
       "      <td>475</td>\n",
       "      <td>10/19/2017</td>\n",
       "      <td>6.0</td>\n",
       "      <td>R10.84</td>\n",
       "      <td>95816</td>\n",
       "      <td>92905</td>\n",
       "      <td>92905-M17</td>\n",
       "      <td>38.570890</td>\n",
       "      <td>-121.469532</td>\n",
       "      <td>0 (&lt; 20 min)</td>\n",
       "    </tr>\n",
       "  </tbody>\n",
       "</table>\n",
       "</div>"
      ],
      "text/plain": [
       "   index   ID  Hospital_Code        Date  APOT Impression Postal_Code  \\\n",
       "0      0  776            508   7/19/2017   6.0     T14.90       95820   \n",
       "1      1  824            508   8/20/2017  10.0      G89.1       95831   \n",
       "2      2  854            197    9/8/2017  20.0     T14.90       95608   \n",
       "3      3  867            475   9/14/2017  30.0      R53.1       95624   \n",
       "4      4  951            475  10/19/2017   6.0     R10.84       95816   \n",
       "\n",
       "   AgencyNumber Agency_Unit        Lat        Long           Status  \n",
       "0         92905   92905-M22  38.554938 -121.456751     0 (< 20 min)  \n",
       "1         92905   92905-M17  38.554938 -121.456751     0 (< 20 min)  \n",
       "2         92905   92905-M17  38.601860 -121.391908     0 (< 20 min)  \n",
       "3         92905   92905-M23  38.570890 -121.469532  1 (21 - 60 min)  \n",
       "4         92905   92905-M17  38.570890 -121.469532     0 (< 20 min)  "
      ]
     },
     "execution_count": 3,
     "metadata": {},
     "output_type": "execute_result"
    }
   ],
   "source": [
    "# temporary file name. csv file does not contain all the data. \n",
    "file_path = Path('final_ems_data_slice_test.csv')\n",
    "df = pd.read_csv(file_path, encoding='utf-8')\n",
    "df.head()"
   ]
  },
  {
   "cell_type": "code",
   "execution_count": 4,
   "metadata": {},
   "outputs": [],
   "source": [
    "# importing LabelEncoder\n",
    "from sklearn.preprocessing import LabelEncoder\n",
    "le = LabelEncoder()"
   ]
  },
  {
   "cell_type": "code",
   "execution_count": 5,
   "metadata": {},
   "outputs": [
    {
     "data": {
      "text/html": [
       "<div>\n",
       "<style scoped>\n",
       "    .dataframe tbody tr th:only-of-type {\n",
       "        vertical-align: middle;\n",
       "    }\n",
       "\n",
       "    .dataframe tbody tr th {\n",
       "        vertical-align: top;\n",
       "    }\n",
       "\n",
       "    .dataframe thead th {\n",
       "        text-align: right;\n",
       "    }\n",
       "</style>\n",
       "<table border=\"1\" class=\"dataframe\">\n",
       "  <thead>\n",
       "    <tr style=\"text-align: right;\">\n",
       "      <th></th>\n",
       "      <th>index</th>\n",
       "      <th>ID</th>\n",
       "      <th>Hospital_Code</th>\n",
       "      <th>Date</th>\n",
       "      <th>APOT</th>\n",
       "      <th>Impression</th>\n",
       "      <th>Postal_Code</th>\n",
       "      <th>AgencyNumber</th>\n",
       "      <th>Agency_Unit</th>\n",
       "      <th>Lat</th>\n",
       "      <th>Long</th>\n",
       "      <th>Status</th>\n",
       "      <th>Impression_le</th>\n",
       "    </tr>\n",
       "  </thead>\n",
       "  <tbody>\n",
       "    <tr>\n",
       "      <th>0</th>\n",
       "      <td>0</td>\n",
       "      <td>776</td>\n",
       "      <td>508</td>\n",
       "      <td>7/19/2017</td>\n",
       "      <td>6.0</td>\n",
       "      <td>T14.90</td>\n",
       "      <td>95820</td>\n",
       "      <td>92905</td>\n",
       "      <td>92905-M22</td>\n",
       "      <td>38.554938</td>\n",
       "      <td>-121.456751</td>\n",
       "      <td>0 (&lt; 20 min)</td>\n",
       "      <td>39</td>\n",
       "    </tr>\n",
       "    <tr>\n",
       "      <th>1</th>\n",
       "      <td>1</td>\n",
       "      <td>824</td>\n",
       "      <td>508</td>\n",
       "      <td>8/20/2017</td>\n",
       "      <td>10.0</td>\n",
       "      <td>G89.1</td>\n",
       "      <td>95831</td>\n",
       "      <td>92905</td>\n",
       "      <td>92905-M17</td>\n",
       "      <td>38.554938</td>\n",
       "      <td>-121.456751</td>\n",
       "      <td>0 (&lt; 20 min)</td>\n",
       "      <td>8</td>\n",
       "    </tr>\n",
       "    <tr>\n",
       "      <th>2</th>\n",
       "      <td>2</td>\n",
       "      <td>854</td>\n",
       "      <td>197</td>\n",
       "      <td>9/8/2017</td>\n",
       "      <td>20.0</td>\n",
       "      <td>T14.90</td>\n",
       "      <td>95608</td>\n",
       "      <td>92905</td>\n",
       "      <td>92905-M17</td>\n",
       "      <td>38.601860</td>\n",
       "      <td>-121.391908</td>\n",
       "      <td>0 (&lt; 20 min)</td>\n",
       "      <td>39</td>\n",
       "    </tr>\n",
       "    <tr>\n",
       "      <th>3</th>\n",
       "      <td>3</td>\n",
       "      <td>867</td>\n",
       "      <td>475</td>\n",
       "      <td>9/14/2017</td>\n",
       "      <td>30.0</td>\n",
       "      <td>R53.1</td>\n",
       "      <td>95624</td>\n",
       "      <td>92905</td>\n",
       "      <td>92905-M23</td>\n",
       "      <td>38.570890</td>\n",
       "      <td>-121.469532</td>\n",
       "      <td>1 (21 - 60 min)</td>\n",
       "      <td>37</td>\n",
       "    </tr>\n",
       "    <tr>\n",
       "      <th>4</th>\n",
       "      <td>4</td>\n",
       "      <td>951</td>\n",
       "      <td>475</td>\n",
       "      <td>10/19/2017</td>\n",
       "      <td>6.0</td>\n",
       "      <td>R10.84</td>\n",
       "      <td>95816</td>\n",
       "      <td>92905</td>\n",
       "      <td>92905-M17</td>\n",
       "      <td>38.570890</td>\n",
       "      <td>-121.469532</td>\n",
       "      <td>0 (&lt; 20 min)</td>\n",
       "      <td>30</td>\n",
       "    </tr>\n",
       "  </tbody>\n",
       "</table>\n",
       "</div>"
      ],
      "text/plain": [
       "   index   ID  Hospital_Code        Date  APOT Impression Postal_Code  \\\n",
       "0      0  776            508   7/19/2017   6.0     T14.90       95820   \n",
       "1      1  824            508   8/20/2017  10.0      G89.1       95831   \n",
       "2      2  854            197    9/8/2017  20.0     T14.90       95608   \n",
       "3      3  867            475   9/14/2017  30.0      R53.1       95624   \n",
       "4      4  951            475  10/19/2017   6.0     R10.84       95816   \n",
       "\n",
       "   AgencyNumber Agency_Unit        Lat        Long           Status  \\\n",
       "0         92905   92905-M22  38.554938 -121.456751     0 (< 20 min)   \n",
       "1         92905   92905-M17  38.554938 -121.456751     0 (< 20 min)   \n",
       "2         92905   92905-M17  38.601860 -121.391908     0 (< 20 min)   \n",
       "3         92905   92905-M23  38.570890 -121.469532  1 (21 - 60 min)   \n",
       "4         92905   92905-M17  38.570890 -121.469532     0 (< 20 min)   \n",
       "\n",
       "   Impression_le  \n",
       "0             39  \n",
       "1              8  \n",
       "2             39  \n",
       "3             37  \n",
       "4             30  "
      ]
     },
     "execution_count": 5,
     "metadata": {},
     "output_type": "execute_result"
    }
   ],
   "source": [
    "#creating an instance of label encoder\n",
    "label_encoder = LabelEncoder()\n",
    "df[\"Impression_le\"] = label_encoder.fit_transform(df[\"Impression\"])\n",
    "df.head()"
   ]
  },
  {
   "cell_type": "code",
   "execution_count": 6,
   "metadata": {},
   "outputs": [],
   "source": [
    "# Impression dictionary\n",
    "impressions_num = {\n",
    "    \"A41.9\":\"0\", \"E13.64\":\"1\", \"E13.65\":\"2\", \"F10.92\":\"3\",\"F19\":\"4\", \"F99\":\"5\",\"G24.0\":\"6\",\n",
    "\"G40.901\":\"7\", \"G40.909\":\"8\", \"G89.1\":\"9\", \"H57.9\":\"10\", \"H93.90\":\"11\", \"I10\":\"12\",\"I20.9\":\"13\", \"I21.3\":\"14\", \"I46.8\":\"15\",\n",
    "\"I46.9\":\"16\",\"I49.9\":\"17\", \"I63.9\":\"18\", \"I95.9\":\"19\",\"J00\":\"20\", \"J68.9\":\"21\",\"J70.5\":\"22\",\"J80\":\"23\",\"J81.0\":\"24\",\"J96.9\":\"25\",\n",
    "\"J98.01\":\"26\", \"K59.1\":\"27\", \"K92.0\":\"28\", \"K92.1\":\"29\",\"M79.60\":\"30\", \"N39.9\":\"31\", \"N93.9\":\"32\", \"O60.0\":\"33\",\n",
    "\"O80\":\"34\", \"O99\":\"35\", \"R00.2\":\"36\", \"R04.0\":\"37\", \"R07.89\":\"38\", \"R10.84\":\"39\", \"R11.2\":\"40\",\"R41.0\":\"41\", \"R41.82\":\"42\",\n",
    "\"R42\":\"43\", \"R50.9\":\"44\", \"R51\":\"45\", \"R53.1\":\"46\", \"R55\":\"47\", \"R68.13\":\"48\", \"R99\":\"49\", \"T14.90\":\"50\", \"T30.0\":\"51\", \"T58\":\"52\",\n",
    "\"T63\":\"53\", \"T67.0\":\"54\", \"T68\":\"55\", \"T71.9\":\"56\", \"T75.1XXA\":\"57\", \"T75.4\":\"58\", \"T78.2\":\"59\", \"T78.40\":\"60\", \"Z00.00\":\"61\",\n",
    "\"Z38.2\":\"62\", \"Z77.9\":\"63\",\n",
    "\n",
    "    }"
   ]
  },
  {
   "cell_type": "code",
   "execution_count": 7,
   "metadata": {},
   "outputs": [
    {
     "data": {
      "text/html": [
       "<div>\n",
       "<style scoped>\n",
       "    .dataframe tbody tr th:only-of-type {\n",
       "        vertical-align: middle;\n",
       "    }\n",
       "\n",
       "    .dataframe tbody tr th {\n",
       "        vertical-align: top;\n",
       "    }\n",
       "\n",
       "    .dataframe thead th {\n",
       "        text-align: right;\n",
       "    }\n",
       "</style>\n",
       "<table border=\"1\" class=\"dataframe\">\n",
       "  <thead>\n",
       "    <tr style=\"text-align: right;\">\n",
       "      <th></th>\n",
       "      <th>index</th>\n",
       "      <th>ID</th>\n",
       "      <th>Hospital_Code</th>\n",
       "      <th>Date</th>\n",
       "      <th>APOT</th>\n",
       "      <th>Impression</th>\n",
       "      <th>Postal_Code</th>\n",
       "      <th>AgencyNumber</th>\n",
       "      <th>Agency_Unit</th>\n",
       "      <th>Lat</th>\n",
       "      <th>Long</th>\n",
       "      <th>Status</th>\n",
       "      <th>Impression_le</th>\n",
       "      <th>impressions_num</th>\n",
       "    </tr>\n",
       "  </thead>\n",
       "  <tbody>\n",
       "    <tr>\n",
       "      <th>0</th>\n",
       "      <td>0</td>\n",
       "      <td>776</td>\n",
       "      <td>508</td>\n",
       "      <td>7/19/2017</td>\n",
       "      <td>6.0</td>\n",
       "      <td>T14.90</td>\n",
       "      <td>95820</td>\n",
       "      <td>92905</td>\n",
       "      <td>92905-M22</td>\n",
       "      <td>38.554938</td>\n",
       "      <td>-121.456751</td>\n",
       "      <td>0 (&lt; 20 min)</td>\n",
       "      <td>39</td>\n",
       "      <td>50</td>\n",
       "    </tr>\n",
       "    <tr>\n",
       "      <th>1</th>\n",
       "      <td>1</td>\n",
       "      <td>824</td>\n",
       "      <td>508</td>\n",
       "      <td>8/20/2017</td>\n",
       "      <td>10.0</td>\n",
       "      <td>G89.1</td>\n",
       "      <td>95831</td>\n",
       "      <td>92905</td>\n",
       "      <td>92905-M17</td>\n",
       "      <td>38.554938</td>\n",
       "      <td>-121.456751</td>\n",
       "      <td>0 (&lt; 20 min)</td>\n",
       "      <td>8</td>\n",
       "      <td>9</td>\n",
       "    </tr>\n",
       "    <tr>\n",
       "      <th>2</th>\n",
       "      <td>2</td>\n",
       "      <td>854</td>\n",
       "      <td>197</td>\n",
       "      <td>9/8/2017</td>\n",
       "      <td>20.0</td>\n",
       "      <td>T14.90</td>\n",
       "      <td>95608</td>\n",
       "      <td>92905</td>\n",
       "      <td>92905-M17</td>\n",
       "      <td>38.601860</td>\n",
       "      <td>-121.391908</td>\n",
       "      <td>0 (&lt; 20 min)</td>\n",
       "      <td>39</td>\n",
       "      <td>50</td>\n",
       "    </tr>\n",
       "    <tr>\n",
       "      <th>3</th>\n",
       "      <td>3</td>\n",
       "      <td>867</td>\n",
       "      <td>475</td>\n",
       "      <td>9/14/2017</td>\n",
       "      <td>30.0</td>\n",
       "      <td>R53.1</td>\n",
       "      <td>95624</td>\n",
       "      <td>92905</td>\n",
       "      <td>92905-M23</td>\n",
       "      <td>38.570890</td>\n",
       "      <td>-121.469532</td>\n",
       "      <td>1 (21 - 60 min)</td>\n",
       "      <td>37</td>\n",
       "      <td>46</td>\n",
       "    </tr>\n",
       "    <tr>\n",
       "      <th>4</th>\n",
       "      <td>4</td>\n",
       "      <td>951</td>\n",
       "      <td>475</td>\n",
       "      <td>10/19/2017</td>\n",
       "      <td>6.0</td>\n",
       "      <td>R10.84</td>\n",
       "      <td>95816</td>\n",
       "      <td>92905</td>\n",
       "      <td>92905-M17</td>\n",
       "      <td>38.570890</td>\n",
       "      <td>-121.469532</td>\n",
       "      <td>0 (&lt; 20 min)</td>\n",
       "      <td>30</td>\n",
       "      <td>39</td>\n",
       "    </tr>\n",
       "  </tbody>\n",
       "</table>\n",
       "</div>"
      ],
      "text/plain": [
       "   index   ID  Hospital_Code        Date  APOT Impression Postal_Code  \\\n",
       "0      0  776            508   7/19/2017   6.0     T14.90       95820   \n",
       "1      1  824            508   8/20/2017  10.0      G89.1       95831   \n",
       "2      2  854            197    9/8/2017  20.0     T14.90       95608   \n",
       "3      3  867            475   9/14/2017  30.0      R53.1       95624   \n",
       "4      4  951            475  10/19/2017   6.0     R10.84       95816   \n",
       "\n",
       "   AgencyNumber Agency_Unit        Lat        Long           Status  \\\n",
       "0         92905   92905-M22  38.554938 -121.456751     0 (< 20 min)   \n",
       "1         92905   92905-M17  38.554938 -121.456751     0 (< 20 min)   \n",
       "2         92905   92905-M17  38.601860 -121.391908     0 (< 20 min)   \n",
       "3         92905   92905-M23  38.570890 -121.469532  1 (21 - 60 min)   \n",
       "4         92905   92905-M17  38.570890 -121.469532     0 (< 20 min)   \n",
       "\n",
       "   Impression_le impressions_num  \n",
       "0             39              50  \n",
       "1              8               9  \n",
       "2             39              50  \n",
       "3             37              46  \n",
       "4             30              39  "
      ]
     },
     "execution_count": 7,
     "metadata": {},
     "output_type": "execute_result"
    }
   ],
   "source": [
    "# Impression names encoded using the dictionary values\n",
    "df[\"impressions_num\"] = df[\"Impression\"].apply(lambda x: impressions_num[x])\n",
    "df.head()"
   ]
  },
  {
   "cell_type": "code",
   "execution_count": 8,
   "metadata": {},
   "outputs": [
    {
     "data": {
      "text/html": [
       "<div>\n",
       "<style scoped>\n",
       "    .dataframe tbody tr th:only-of-type {\n",
       "        vertical-align: middle;\n",
       "    }\n",
       "\n",
       "    .dataframe tbody tr th {\n",
       "        vertical-align: top;\n",
       "    }\n",
       "\n",
       "    .dataframe thead th {\n",
       "        text-align: right;\n",
       "    }\n",
       "</style>\n",
       "<table border=\"1\" class=\"dataframe\">\n",
       "  <thead>\n",
       "    <tr style=\"text-align: right;\">\n",
       "      <th></th>\n",
       "      <th>index</th>\n",
       "      <th>ID</th>\n",
       "      <th>Hospital_Code</th>\n",
       "      <th>Date</th>\n",
       "      <th>APOT</th>\n",
       "      <th>Postal_Code</th>\n",
       "      <th>AgencyNumber</th>\n",
       "      <th>Agency_Unit</th>\n",
       "      <th>Lat</th>\n",
       "      <th>Long</th>\n",
       "      <th>Status</th>\n",
       "      <th>impressions_num</th>\n",
       "    </tr>\n",
       "  </thead>\n",
       "  <tbody>\n",
       "    <tr>\n",
       "      <th>0</th>\n",
       "      <td>0</td>\n",
       "      <td>776</td>\n",
       "      <td>508</td>\n",
       "      <td>7/19/2017</td>\n",
       "      <td>6.0</td>\n",
       "      <td>95820</td>\n",
       "      <td>92905</td>\n",
       "      <td>92905-M22</td>\n",
       "      <td>38.554938</td>\n",
       "      <td>-121.456751</td>\n",
       "      <td>0 (&lt; 20 min)</td>\n",
       "      <td>50</td>\n",
       "    </tr>\n",
       "    <tr>\n",
       "      <th>1</th>\n",
       "      <td>1</td>\n",
       "      <td>824</td>\n",
       "      <td>508</td>\n",
       "      <td>8/20/2017</td>\n",
       "      <td>10.0</td>\n",
       "      <td>95831</td>\n",
       "      <td>92905</td>\n",
       "      <td>92905-M17</td>\n",
       "      <td>38.554938</td>\n",
       "      <td>-121.456751</td>\n",
       "      <td>0 (&lt; 20 min)</td>\n",
       "      <td>9</td>\n",
       "    </tr>\n",
       "    <tr>\n",
       "      <th>2</th>\n",
       "      <td>2</td>\n",
       "      <td>854</td>\n",
       "      <td>197</td>\n",
       "      <td>9/8/2017</td>\n",
       "      <td>20.0</td>\n",
       "      <td>95608</td>\n",
       "      <td>92905</td>\n",
       "      <td>92905-M17</td>\n",
       "      <td>38.601860</td>\n",
       "      <td>-121.391908</td>\n",
       "      <td>0 (&lt; 20 min)</td>\n",
       "      <td>50</td>\n",
       "    </tr>\n",
       "    <tr>\n",
       "      <th>3</th>\n",
       "      <td>3</td>\n",
       "      <td>867</td>\n",
       "      <td>475</td>\n",
       "      <td>9/14/2017</td>\n",
       "      <td>30.0</td>\n",
       "      <td>95624</td>\n",
       "      <td>92905</td>\n",
       "      <td>92905-M23</td>\n",
       "      <td>38.570890</td>\n",
       "      <td>-121.469532</td>\n",
       "      <td>1 (21 - 60 min)</td>\n",
       "      <td>46</td>\n",
       "    </tr>\n",
       "    <tr>\n",
       "      <th>4</th>\n",
       "      <td>4</td>\n",
       "      <td>951</td>\n",
       "      <td>475</td>\n",
       "      <td>10/19/2017</td>\n",
       "      <td>6.0</td>\n",
       "      <td>95816</td>\n",
       "      <td>92905</td>\n",
       "      <td>92905-M17</td>\n",
       "      <td>38.570890</td>\n",
       "      <td>-121.469532</td>\n",
       "      <td>0 (&lt; 20 min)</td>\n",
       "      <td>39</td>\n",
       "    </tr>\n",
       "  </tbody>\n",
       "</table>\n",
       "</div>"
      ],
      "text/plain": [
       "   index   ID  Hospital_Code        Date  APOT Postal_Code  AgencyNumber  \\\n",
       "0      0  776            508   7/19/2017   6.0       95820         92905   \n",
       "1      1  824            508   8/20/2017  10.0       95831         92905   \n",
       "2      2  854            197    9/8/2017  20.0       95608         92905   \n",
       "3      3  867            475   9/14/2017  30.0       95624         92905   \n",
       "4      4  951            475  10/19/2017   6.0       95816         92905   \n",
       "\n",
       "  Agency_Unit        Lat        Long           Status impressions_num  \n",
       "0   92905-M22  38.554938 -121.456751     0 (< 20 min)              50  \n",
       "1   92905-M17  38.554938 -121.456751     0 (< 20 min)               9  \n",
       "2   92905-M17  38.601860 -121.391908     0 (< 20 min)              50  \n",
       "3   92905-M23  38.570890 -121.469532  1 (21 - 60 min)              46  \n",
       "4   92905-M17  38.570890 -121.469532     0 (< 20 min)              39  "
      ]
     },
     "execution_count": 8,
     "metadata": {},
     "output_type": "execute_result"
    }
   ],
   "source": [
    "# Dropping the Impression and Impression_le columns\n",
    "df = df.drop([\"Impression\", \"Impression_le\"], axis=1)\n",
    "df.head()\n"
   ]
  },
  {
   "cell_type": "code",
   "execution_count": 9,
   "metadata": {},
   "outputs": [
    {
     "data": {
      "image/png": "[encoded data removed]",
      "text/plain": [
       "<Figure size 640x480 with 1 Axes>"
      ]
     },
     "metadata": {},
     "output_type": "display_data"
    }
   ],
   "source": [
    "plt.scatter(df.impressions_num, df.APOT)\n",
    "plt.xlabel('impressions_num')\n",
    "plt.ylabel('APOT')\n",
    "plt.show()"
   ]
  },
  {
   "cell_type": "code",
   "execution_count": 10,
   "metadata": {
    "scrolled": true
   },
   "outputs": [],
   "source": [
    "# re-shaping data\n",
    "\n",
    "X = df.index.values.reshape(-1, 1)"
   ]
  },
  {
   "cell_type": "code",
   "execution_count": 11,
   "metadata": {},
   "outputs": [
    {
     "data": {
      "text/plain": [
       "array([[0],\n",
       "       [1],\n",
       "       [2],\n",
       "       [3],\n",
       "       [4]], dtype=int64)"
      ]
     },
     "execution_count": 11,
     "metadata": {},
     "output_type": "execute_result"
    }
   ],
   "source": [
    "X[:5]"
   ]
  },
  {
   "cell_type": "code",
   "execution_count": 12,
   "metadata": {},
   "outputs": [
    {
     "data": {
      "text/plain": [
       "(1000, 1)"
      ]
     },
     "execution_count": 12,
     "metadata": {},
     "output_type": "execute_result"
    }
   ],
   "source": [
    "# The shape of X is 1000 samples, with 1 feature (column)\n",
    "X.shape"
   ]
  },
  {
   "cell_type": "code",
   "execution_count": 13,
   "metadata": {},
   "outputs": [],
   "source": [
    "y = df.APOT"
   ]
  },
  {
   "cell_type": "code",
   "execution_count": 14,
   "metadata": {},
   "outputs": [],
   "source": [
    "# Create a model with scikit-learn\n",
    "model = LinearRegression()"
   ]
  },
  {
   "cell_type": "code",
   "execution_count": 15,
   "metadata": {},
   "outputs": [
    {
     "data": {
      "text/plain": [
       "LinearRegression()"
      ]
     },
     "execution_count": 15,
     "metadata": {},
     "output_type": "execute_result"
    }
   ],
   "source": [
    "# fitting the data into the model\n",
    "\n",
    "model.fit(X, y)"
   ]
  },
  {
   "cell_type": "code",
   "execution_count": 16,
   "metadata": {},
   "outputs": [
    {
     "name": "stdout",
     "output_type": "stream",
     "text": [
      "(1000,)\n"
     ]
    }
   ],
   "source": [
    "# predicting y values based on X values\n",
    "y_pred = model.predict(X)\n",
    "print(y_pred.shape)"
   ]
  },
  {
   "cell_type": "code",
   "execution_count": 17,
   "metadata": {},
   "outputs": [
    {
     "data": {
      "image/png": "[encoded data removed]",
      "text/plain": [
       "<Figure size 640x480 with 1 Axes>"
      ]
     },
     "metadata": {},
     "output_type": "display_data"
    }
   ],
   "source": [
    "# results plotted with a line of best fit\n",
    "\n",
    "plt.scatter(X, y)\n",
    "plt.plot(X, y_pred, color='red')\n",
    "plt.show()"
   ]
  },
  {
   "cell_type": "code",
   "execution_count": 18,
   "metadata": {},
   "outputs": [
    {
     "name": "stdout",
     "output_type": "stream",
     "text": [
      "[-0.0058581]\n",
      "33.367692947052944\n"
     ]
    }
   ],
   "source": [
    "# printing the slope and the y-intercept\n",
    "\n",
    "print(model.coef_)\n",
    "print(model.intercept_)"
   ]
  }
 ],
 "metadata": {
  "kernelspec": {
   "display_name": "mlenv",
   "language": "python",
   "name": "mlenv"
  },
  "language_info": {
   "codemirror_mode": {
    "name": "ipython",
    "version": 3
   },
   "file_extension": ".py",
   "mimetype": "text/x-python",
   "name": "python",
   "nbconvert_exporter": "python",
   "pygments_lexer": "ipython3",
   "version": "3.7.13"
  }
 },
 "nbformat": 4,
 "nbformat_minor": 4
}
