{
 "cells": [
  {
   "cell_type": "code",
   "execution_count": 1,
   "metadata": {},
   "outputs": [],
   "source": [
    "import warnings\n",
    "warnings.filterwarnings('ignore')"
   ]
  },
  {
   "cell_type": "code",
   "execution_count": 2,
   "metadata": {},
   "outputs": [],
   "source": [
    "import numpy as np\n",
    "import pandas as pd\n",
    "from pathlib import Path\n",
    "from collections import Counter"
   ]
  },
  {
   "cell_type": "markdown",
   "metadata": {},
   "source": [
    "# Read the CSV and Perform Basic Data Cleaning"
   ]
  },
  {
   "cell_type": "code",
   "execution_count": 3,
   "metadata": {},
   "outputs": [],
   "source": [
    "columns = [\n",
    "    \"index\", \"ID\", \"Hospital_Code\", \"Date\",\n",
    "    \"APOT\", \"Impression\", \"Postal_Code\", \"AgencyNumber\",\n",
    "    \"Agency_Unit\", \"Lat\", \"Long\", \"Status\",\n",
    "    \n",
    "]\n",
    "\n",
    "target = [\"Status\"]"
   ]
  },
  {
   "cell_type": "code",
   "execution_count": 5,
   "metadata": {},
   "outputs": [
    {
     "data": {
      "text/html": [
       "<div>\n",
       "<style scoped>\n",
       "    .dataframe tbody tr th:only-of-type {\n",
       "        vertical-align: middle;\n",
       "    }\n",
       "\n",
       "    .dataframe tbody tr th {\n",
       "        vertical-align: top;\n",
       "    }\n",
       "\n",
       "    .dataframe thead th {\n",
       "        text-align: right;\n",
       "    }\n",
       "</style>\n",
       "<table border=\"1\" class=\"dataframe\">\n",
       "  <thead>\n",
       "    <tr style=\"text-align: right;\">\n",
       "      <th></th>\n",
       "      <th>index</th>\n",
       "      <th>ID</th>\n",
       "      <th>Hospital_Code</th>\n",
       "      <th>Date</th>\n",
       "      <th>Impression</th>\n",
       "      <th>Postal_Code</th>\n",
       "      <th>AgencyNumber</th>\n",
       "      <th>Agency_Unit</th>\n",
       "      <th>Lat</th>\n",
       "      <th>Long</th>\n",
       "      <th>Status</th>\n",
       "    </tr>\n",
       "  </thead>\n",
       "  <tbody>\n",
       "    <tr>\n",
       "      <th>0</th>\n",
       "      <td>0</td>\n",
       "      <td>776</td>\n",
       "      <td>508</td>\n",
       "      <td>7/19/2017</td>\n",
       "      <td>T14.90</td>\n",
       "      <td>95820</td>\n",
       "      <td>92905</td>\n",
       "      <td>92905-M22</td>\n",
       "      <td>38.554938</td>\n",
       "      <td>-121.456751</td>\n",
       "      <td>0 (&lt; 20 min)</td>\n",
       "    </tr>\n",
       "    <tr>\n",
       "      <th>1</th>\n",
       "      <td>1</td>\n",
       "      <td>824</td>\n",
       "      <td>508</td>\n",
       "      <td>8/20/2017</td>\n",
       "      <td>G89.1</td>\n",
       "      <td>95831</td>\n",
       "      <td>92905</td>\n",
       "      <td>92905-M17</td>\n",
       "      <td>38.554938</td>\n",
       "      <td>-121.456751</td>\n",
       "      <td>0 (&lt; 20 min)</td>\n",
       "    </tr>\n",
       "    <tr>\n",
       "      <th>2</th>\n",
       "      <td>2</td>\n",
       "      <td>854</td>\n",
       "      <td>197</td>\n",
       "      <td>9/8/2017</td>\n",
       "      <td>T14.90</td>\n",
       "      <td>95608</td>\n",
       "      <td>92905</td>\n",
       "      <td>92905-M17</td>\n",
       "      <td>38.601860</td>\n",
       "      <td>-121.391908</td>\n",
       "      <td>0 (&lt; 20 min)</td>\n",
       "    </tr>\n",
       "    <tr>\n",
       "      <th>3</th>\n",
       "      <td>3</td>\n",
       "      <td>867</td>\n",
       "      <td>475</td>\n",
       "      <td>9/14/2017</td>\n",
       "      <td>R53.1</td>\n",
       "      <td>95624</td>\n",
       "      <td>92905</td>\n",
       "      <td>92905-M23</td>\n",
       "      <td>38.570890</td>\n",
       "      <td>-121.469532</td>\n",
       "      <td>1 (21 - 60 min)</td>\n",
       "    </tr>\n",
       "    <tr>\n",
       "      <th>4</th>\n",
       "      <td>4</td>\n",
       "      <td>951</td>\n",
       "      <td>475</td>\n",
       "      <td>10/19/2017</td>\n",
       "      <td>R10.84</td>\n",
       "      <td>95816</td>\n",
       "      <td>92905</td>\n",
       "      <td>92905-M17</td>\n",
       "      <td>38.570890</td>\n",
       "      <td>-121.469532</td>\n",
       "      <td>0 (&lt; 20 min)</td>\n",
       "    </tr>\n",
       "  </tbody>\n",
       "</table>\n",
       "</div>"
      ],
      "text/plain": [
       "   index   ID  Hospital_Code        Date Impression Postal_Code  AgencyNumber  \\\n",
       "0      0  776            508   7/19/2017     T14.90       95820         92905   \n",
       "1      1  824            508   8/20/2017      G89.1       95831         92905   \n",
       "2      2  854            197    9/8/2017     T14.90       95608         92905   \n",
       "3      3  867            475   9/14/2017      R53.1       95624         92905   \n",
       "4      4  951            475  10/19/2017     R10.84       95816         92905   \n",
       "\n",
       "  Agency_Unit        Lat        Long           Status  \n",
       "0   92905-M22  38.554938 -121.456751     0 (< 20 min)  \n",
       "1   92905-M17  38.554938 -121.456751     0 (< 20 min)  \n",
       "2   92905-M17  38.601860 -121.391908     0 (< 20 min)  \n",
       "3   92905-M23  38.570890 -121.469532  1 (21 - 60 min)  \n",
       "4   92905-M17  38.570890 -121.469532     0 (< 20 min)  "
      ]
     },
     "execution_count": 5,
     "metadata": {},
     "output_type": "execute_result"
    }
   ],
   "source": [
    "# Load the data\n",
    "file_path = Path('final_ems_data_slice_test.csv')\n",
    "df = pd.read_csv(file_path, encoding='utf-8')\n",
    "\n",
    "df = df.loc[:, columns].copy()\n",
    "\n",
    "# Drop the null columns where all values are null\n",
    "df = df.dropna(axis='columns', how='all')\n",
    "\n",
    "# Drop the null rows\n",
    "df = df.dropna()\n",
    "\n",
    "df = df.drop([\"APOT\"], axis=1)\n",
    "df.head()\n",
    "\n"
   ]
  },
  {
   "cell_type": "code",
   "execution_count": 6,
   "metadata": {},
   "outputs": [
    {
     "data": {
      "text/html": [
       "<div>\n",
       "<style scoped>\n",
       "    .dataframe tbody tr th:only-of-type {\n",
       "        vertical-align: middle;\n",
       "    }\n",
       "\n",
       "    .dataframe tbody tr th {\n",
       "        vertical-align: top;\n",
       "    }\n",
       "\n",
       "    .dataframe thead th {\n",
       "        text-align: right;\n",
       "    }\n",
       "</style>\n",
       "<table border=\"1\" class=\"dataframe\">\n",
       "  <thead>\n",
       "    <tr style=\"text-align: right;\">\n",
       "      <th></th>\n",
       "      <th>index</th>\n",
       "      <th>ID</th>\n",
       "      <th>Hospital_Code</th>\n",
       "      <th>Date</th>\n",
       "      <th>Impression</th>\n",
       "      <th>Postal_Code</th>\n",
       "      <th>AgencyNumber</th>\n",
       "      <th>Agency_Unit</th>\n",
       "      <th>Lat</th>\n",
       "      <th>Long</th>\n",
       "      <th>Status</th>\n",
       "    </tr>\n",
       "  </thead>\n",
       "  <tbody>\n",
       "    <tr>\n",
       "      <th>0</th>\n",
       "      <td>0</td>\n",
       "      <td>776</td>\n",
       "      <td>508</td>\n",
       "      <td>7/19/2017</td>\n",
       "      <td>T14.90</td>\n",
       "      <td>95820</td>\n",
       "      <td>92905</td>\n",
       "      <td>92905-M22</td>\n",
       "      <td>38.554938</td>\n",
       "      <td>-121.456751</td>\n",
       "      <td>benchmark</td>\n",
       "    </tr>\n",
       "    <tr>\n",
       "      <th>1</th>\n",
       "      <td>1</td>\n",
       "      <td>824</td>\n",
       "      <td>508</td>\n",
       "      <td>8/20/2017</td>\n",
       "      <td>G89.1</td>\n",
       "      <td>95831</td>\n",
       "      <td>92905</td>\n",
       "      <td>92905-M17</td>\n",
       "      <td>38.554938</td>\n",
       "      <td>-121.456751</td>\n",
       "      <td>benchmark</td>\n",
       "    </tr>\n",
       "    <tr>\n",
       "      <th>2</th>\n",
       "      <td>2</td>\n",
       "      <td>854</td>\n",
       "      <td>197</td>\n",
       "      <td>9/8/2017</td>\n",
       "      <td>T14.90</td>\n",
       "      <td>95608</td>\n",
       "      <td>92905</td>\n",
       "      <td>92905-M17</td>\n",
       "      <td>38.601860</td>\n",
       "      <td>-121.391908</td>\n",
       "      <td>benchmark</td>\n",
       "    </tr>\n",
       "    <tr>\n",
       "      <th>3</th>\n",
       "      <td>3</td>\n",
       "      <td>867</td>\n",
       "      <td>475</td>\n",
       "      <td>9/14/2017</td>\n",
       "      <td>R53.1</td>\n",
       "      <td>95624</td>\n",
       "      <td>92905</td>\n",
       "      <td>92905-M23</td>\n",
       "      <td>38.570890</td>\n",
       "      <td>-121.469532</td>\n",
       "      <td>benchmark</td>\n",
       "    </tr>\n",
       "    <tr>\n",
       "      <th>4</th>\n",
       "      <td>4</td>\n",
       "      <td>951</td>\n",
       "      <td>475</td>\n",
       "      <td>10/19/2017</td>\n",
       "      <td>R10.84</td>\n",
       "      <td>95816</td>\n",
       "      <td>92905</td>\n",
       "      <td>92905-M17</td>\n",
       "      <td>38.570890</td>\n",
       "      <td>-121.469532</td>\n",
       "      <td>benchmark</td>\n",
       "    </tr>\n",
       "  </tbody>\n",
       "</table>\n",
       "</div>"
      ],
      "text/plain": [
       "   index   ID  Hospital_Code        Date Impression Postal_Code  AgencyNumber  \\\n",
       "0      0  776            508   7/19/2017     T14.90       95820         92905   \n",
       "1      1  824            508   8/20/2017      G89.1       95831         92905   \n",
       "2      2  854            197    9/8/2017     T14.90       95608         92905   \n",
       "3      3  867            475   9/14/2017      R53.1       95624         92905   \n",
       "4      4  951            475  10/19/2017     R10.84       95816         92905   \n",
       "\n",
       "  Agency_Unit        Lat        Long     Status  \n",
       "0   92905-M22  38.554938 -121.456751  benchmark  \n",
       "1   92905-M17  38.554938 -121.456751  benchmark  \n",
       "2   92905-M17  38.601860 -121.391908  benchmark  \n",
       "3   92905-M23  38.570890 -121.469532  benchmark  \n",
       "4   92905-M17  38.570890 -121.469532  benchmark  "
      ]
     },
     "execution_count": 6,
     "metadata": {},
     "output_type": "execute_result"
    }
   ],
   "source": [
    "# Convert the target column values to low_risk and high_risk based on their values\n",
    "x = dict.fromkeys(['0 (< 20 min)', '1 (21 - 60 min)'], 'benchmark')    \n",
    "df = df.replace(x)\n",
    "\n",
    "x = dict.fromkeys(['2 (61 - 120 min)', '3 (121 - 180 min)', '4 (181 + min)'], 'extreme')    \n",
    "df = df.replace(x)\n",
    "\n",
    "df.reset_index(inplace=True, drop=True)\n",
    "\n",
    "df.head()"
   ]
  },
  {
   "cell_type": "markdown",
   "metadata": {},
   "source": [
    "# Split the Data into Training and Testing"
   ]
  },
  {
   "cell_type": "code",
   "execution_count": 7,
   "metadata": {},
   "outputs": [],
   "source": [
    "# Create our features\n",
    "X = pd.get_dummies(df)\n",
    "\n",
    "# Create our target\n",
    "y = df[target]"
   ]
  },
  {
   "cell_type": "code",
   "execution_count": 8,
   "metadata": {},
   "outputs": [
    {
     "data": {
      "text/html": [
       "<div>\n",
       "<style scoped>\n",
       "    .dataframe tbody tr th:only-of-type {\n",
       "        vertical-align: middle;\n",
       "    }\n",
       "\n",
       "    .dataframe tbody tr th {\n",
       "        vertical-align: top;\n",
       "    }\n",
       "\n",
       "    .dataframe thead th {\n",
       "        text-align: right;\n",
       "    }\n",
       "</style>\n",
       "<table border=\"1\" class=\"dataframe\">\n",
       "  <thead>\n",
       "    <tr style=\"text-align: right;\">\n",
       "      <th></th>\n",
       "      <th>index</th>\n",
       "      <th>ID</th>\n",
       "      <th>Hospital_Code</th>\n",
       "      <th>AgencyNumber</th>\n",
       "      <th>Lat</th>\n",
       "      <th>Long</th>\n",
       "      <th>Date_1/1/2018</th>\n",
       "      <th>Date_1/10/2018</th>\n",
       "      <th>Date_1/11/2018</th>\n",
       "      <th>Date_1/12/2018</th>\n",
       "      <th>...</th>\n",
       "      <th>Agency_Unit_605-S-755</th>\n",
       "      <th>Agency_Unit_92905-M102</th>\n",
       "      <th>Agency_Unit_92905-M17</th>\n",
       "      <th>Agency_Unit_92905-M2</th>\n",
       "      <th>Agency_Unit_92905-M21</th>\n",
       "      <th>Agency_Unit_92905-M22</th>\n",
       "      <th>Agency_Unit_92905-M23</th>\n",
       "      <th>Agency_Unit_92905-M3</th>\n",
       "      <th>Status_benchmark</th>\n",
       "      <th>Status_extreme</th>\n",
       "    </tr>\n",
       "  </thead>\n",
       "  <tbody>\n",
       "    <tr>\n",
       "      <th>count</th>\n",
       "      <td>1000.000000</td>\n",
       "      <td>1000.000000</td>\n",
       "      <td>1000.000000</td>\n",
       "      <td>1000.000000</td>\n",
       "      <td>1000.000000</td>\n",
       "      <td>1000.000000</td>\n",
       "      <td>1000.000000</td>\n",
       "      <td>1000.000000</td>\n",
       "      <td>1000.000000</td>\n",
       "      <td>1000.000000</td>\n",
       "      <td>...</td>\n",
       "      <td>1000.000000</td>\n",
       "      <td>1000.000000</td>\n",
       "      <td>1000.000000</td>\n",
       "      <td>1000.000000</td>\n",
       "      <td>1000.000000</td>\n",
       "      <td>1000.000000</td>\n",
       "      <td>1000.000000</td>\n",
       "      <td>1000.000000</td>\n",
       "      <td>1000.000000</td>\n",
       "      <td>1000.000000</td>\n",
       "    </tr>\n",
       "    <tr>\n",
       "      <th>mean</th>\n",
       "      <td>499.500000</td>\n",
       "      <td>101355.360000</td>\n",
       "      <td>361.748000</td>\n",
       "      <td>7640.800000</td>\n",
       "      <td>223.159364</td>\n",
       "      <td>-119.991811</td>\n",
       "      <td>0.001000</td>\n",
       "      <td>0.005000</td>\n",
       "      <td>0.005000</td>\n",
       "      <td>0.002000</td>\n",
       "      <td>...</td>\n",
       "      <td>0.050000</td>\n",
       "      <td>0.009000</td>\n",
       "      <td>0.026000</td>\n",
       "      <td>0.002000</td>\n",
       "      <td>0.013000</td>\n",
       "      <td>0.002000</td>\n",
       "      <td>0.021000</td>\n",
       "      <td>0.003000</td>\n",
       "      <td>0.902000</td>\n",
       "      <td>0.098000</td>\n",
       "    </tr>\n",
       "    <tr>\n",
       "      <th>std</th>\n",
       "      <td>288.819436</td>\n",
       "      <td>44261.754278</td>\n",
       "      <td>147.587345</td>\n",
       "      <td>24466.173628</td>\n",
       "      <td>1937.984056</td>\n",
       "      <td>15.118604</td>\n",
       "      <td>0.031623</td>\n",
       "      <td>0.070569</td>\n",
       "      <td>0.070569</td>\n",
       "      <td>0.044699</td>\n",
       "      <td>...</td>\n",
       "      <td>0.218054</td>\n",
       "      <td>0.094488</td>\n",
       "      <td>0.159215</td>\n",
       "      <td>0.044699</td>\n",
       "      <td>0.113331</td>\n",
       "      <td>0.044699</td>\n",
       "      <td>0.143456</td>\n",
       "      <td>0.054717</td>\n",
       "      <td>0.297463</td>\n",
       "      <td>0.297463</td>\n",
       "    </tr>\n",
       "    <tr>\n",
       "      <th>min</th>\n",
       "      <td>0.000000</td>\n",
       "      <td>776.000000</td>\n",
       "      <td>5.000000</td>\n",
       "      <td>605.000000</td>\n",
       "      <td>38.463174</td>\n",
       "      <td>-121.469532</td>\n",
       "      <td>0.000000</td>\n",
       "      <td>0.000000</td>\n",
       "      <td>0.000000</td>\n",
       "      <td>0.000000</td>\n",
       "      <td>...</td>\n",
       "      <td>0.000000</td>\n",
       "      <td>0.000000</td>\n",
       "      <td>0.000000</td>\n",
       "      <td>0.000000</td>\n",
       "      <td>0.000000</td>\n",
       "      <td>0.000000</td>\n",
       "      <td>0.000000</td>\n",
       "      <td>0.000000</td>\n",
       "      <td>0.000000</td>\n",
       "      <td>0.000000</td>\n",
       "    </tr>\n",
       "    <tr>\n",
       "      <th>25%</th>\n",
       "      <td>249.750000</td>\n",
       "      <td>71723.250000</td>\n",
       "      <td>280.000000</td>\n",
       "      <td>605.000000</td>\n",
       "      <td>38.554938</td>\n",
       "      <td>-121.469532</td>\n",
       "      <td>0.000000</td>\n",
       "      <td>0.000000</td>\n",
       "      <td>0.000000</td>\n",
       "      <td>0.000000</td>\n",
       "      <td>...</td>\n",
       "      <td>0.000000</td>\n",
       "      <td>0.000000</td>\n",
       "      <td>0.000000</td>\n",
       "      <td>0.000000</td>\n",
       "      <td>0.000000</td>\n",
       "      <td>0.000000</td>\n",
       "      <td>0.000000</td>\n",
       "      <td>0.000000</td>\n",
       "      <td>1.000000</td>\n",
       "      <td>0.000000</td>\n",
       "    </tr>\n",
       "    <tr>\n",
       "      <th>50%</th>\n",
       "      <td>499.500000</td>\n",
       "      <td>106003.500000</td>\n",
       "      <td>475.000000</td>\n",
       "      <td>605.000000</td>\n",
       "      <td>38.570890</td>\n",
       "      <td>-121.456751</td>\n",
       "      <td>0.000000</td>\n",
       "      <td>0.000000</td>\n",
       "      <td>0.000000</td>\n",
       "      <td>0.000000</td>\n",
       "      <td>...</td>\n",
       "      <td>0.000000</td>\n",
       "      <td>0.000000</td>\n",
       "      <td>0.000000</td>\n",
       "      <td>0.000000</td>\n",
       "      <td>0.000000</td>\n",
       "      <td>0.000000</td>\n",
       "      <td>0.000000</td>\n",
       "      <td>0.000000</td>\n",
       "      <td>1.000000</td>\n",
       "      <td>0.000000</td>\n",
       "    </tr>\n",
       "    <tr>\n",
       "      <th>75%</th>\n",
       "      <td>749.250000</td>\n",
       "      <td>143083.250000</td>\n",
       "      <td>475.000000</td>\n",
       "      <td>605.000000</td>\n",
       "      <td>38.570890</td>\n",
       "      <td>-121.416364</td>\n",
       "      <td>0.000000</td>\n",
       "      <td>0.000000</td>\n",
       "      <td>0.000000</td>\n",
       "      <td>0.000000</td>\n",
       "      <td>...</td>\n",
       "      <td>0.000000</td>\n",
       "      <td>0.000000</td>\n",
       "      <td>0.000000</td>\n",
       "      <td>0.000000</td>\n",
       "      <td>0.000000</td>\n",
       "      <td>0.000000</td>\n",
       "      <td>0.000000</td>\n",
       "      <td>0.000000</td>\n",
       "      <td>1.000000</td>\n",
       "      <td>0.000000</td>\n",
       "    </tr>\n",
       "    <tr>\n",
       "      <th>max</th>\n",
       "      <td>999.000000</td>\n",
       "      <td>152172.000000</td>\n",
       "      <td>549.000000</td>\n",
       "      <td>92905.000000</td>\n",
       "      <td>20549.000000</td>\n",
       "      <td>38.573060</td>\n",
       "      <td>1.000000</td>\n",
       "      <td>1.000000</td>\n",
       "      <td>1.000000</td>\n",
       "      <td>1.000000</td>\n",
       "      <td>...</td>\n",
       "      <td>1.000000</td>\n",
       "      <td>1.000000</td>\n",
       "      <td>1.000000</td>\n",
       "      <td>1.000000</td>\n",
       "      <td>1.000000</td>\n",
       "      <td>1.000000</td>\n",
       "      <td>1.000000</td>\n",
       "      <td>1.000000</td>\n",
       "      <td>1.000000</td>\n",
       "      <td>1.000000</td>\n",
       "    </tr>\n",
       "  </tbody>\n",
       "</table>\n",
       "<p>8 rows × 467 columns</p>\n",
       "</div>"
      ],
      "text/plain": [
       "             index             ID  Hospital_Code  AgencyNumber           Lat  \\\n",
       "count  1000.000000    1000.000000    1000.000000   1000.000000   1000.000000   \n",
       "mean    499.500000  101355.360000     361.748000   7640.800000    223.159364   \n",
       "std     288.819436   44261.754278     147.587345  24466.173628   1937.984056   \n",
       "min       0.000000     776.000000       5.000000    605.000000     38.463174   \n",
       "25%     249.750000   71723.250000     280.000000    605.000000     38.554938   \n",
       "50%     499.500000  106003.500000     475.000000    605.000000     38.570890   \n",
       "75%     749.250000  143083.250000     475.000000    605.000000     38.570890   \n",
       "max     999.000000  152172.000000     549.000000  92905.000000  20549.000000   \n",
       "\n",
       "              Long  Date_1/1/2018  Date_1/10/2018  Date_1/11/2018  \\\n",
       "count  1000.000000    1000.000000     1000.000000     1000.000000   \n",
       "mean   -119.991811       0.001000        0.005000        0.005000   \n",
       "std      15.118604       0.031623        0.070569        0.070569   \n",
       "min    -121.469532       0.000000        0.000000        0.000000   \n",
       "25%    -121.469532       0.000000        0.000000        0.000000   \n",
       "50%    -121.456751       0.000000        0.000000        0.000000   \n",
       "75%    -121.416364       0.000000        0.000000        0.000000   \n",
       "max      38.573060       1.000000        1.000000        1.000000   \n",
       "\n",
       "       Date_1/12/2018  ...  Agency_Unit_605-S-755  Agency_Unit_92905-M102  \\\n",
       "count     1000.000000  ...            1000.000000             1000.000000   \n",
       "mean         0.002000  ...               0.050000                0.009000   \n",
       "std          0.044699  ...               0.218054                0.094488   \n",
       "min          0.000000  ...               0.000000                0.000000   \n",
       "25%          0.000000  ...               0.000000                0.000000   \n",
       "50%          0.000000  ...               0.000000                0.000000   \n",
       "75%          0.000000  ...               0.000000                0.000000   \n",
       "max          1.000000  ...               1.000000                1.000000   \n",
       "\n",
       "       Agency_Unit_92905-M17  Agency_Unit_92905-M2  Agency_Unit_92905-M21  \\\n",
       "count            1000.000000           1000.000000            1000.000000   \n",
       "mean                0.026000              0.002000               0.013000   \n",
       "std                 0.159215              0.044699               0.113331   \n",
       "min                 0.000000              0.000000               0.000000   \n",
       "25%                 0.000000              0.000000               0.000000   \n",
       "50%                 0.000000              0.000000               0.000000   \n",
       "75%                 0.000000              0.000000               0.000000   \n",
       "max                 1.000000              1.000000               1.000000   \n",
       "\n",
       "       Agency_Unit_92905-M22  Agency_Unit_92905-M23  Agency_Unit_92905-M3  \\\n",
       "count            1000.000000            1000.000000           1000.000000   \n",
       "mean                0.002000               0.021000              0.003000   \n",
       "std                 0.044699               0.143456              0.054717   \n",
       "min                 0.000000               0.000000              0.000000   \n",
       "25%                 0.000000               0.000000              0.000000   \n",
       "50%                 0.000000               0.000000              0.000000   \n",
       "75%                 0.000000               0.000000              0.000000   \n",
       "max                 1.000000               1.000000              1.000000   \n",
       "\n",
       "       Status_benchmark  Status_extreme  \n",
       "count       1000.000000     1000.000000  \n",
       "mean           0.902000        0.098000  \n",
       "std            0.297463        0.297463  \n",
       "min            0.000000        0.000000  \n",
       "25%            1.000000        0.000000  \n",
       "50%            1.000000        0.000000  \n",
       "75%            1.000000        0.000000  \n",
       "max            1.000000        1.000000  \n",
       "\n",
       "[8 rows x 467 columns]"
      ]
     },
     "execution_count": 8,
     "metadata": {},
     "output_type": "execute_result"
    }
   ],
   "source": [
    "X.describe()"
   ]
  },
  {
   "cell_type": "code",
   "execution_count": 9,
   "metadata": {},
   "outputs": [
    {
     "data": {
      "text/plain": [
       "benchmark    902\n",
       "extreme       98\n",
       "Name: Status, dtype: int64"
      ]
     },
     "execution_count": 9,
     "metadata": {},
     "output_type": "execute_result"
    }
   ],
   "source": [
    "# Check the balance of our target values\n",
    "y['Status'].value_counts()"
   ]
  },
  {
   "cell_type": "code",
   "execution_count": 10,
   "metadata": {},
   "outputs": [
    {
     "data": {
      "text/plain": [
       "(750, 467)"
      ]
     },
     "execution_count": 10,
     "metadata": {},
     "output_type": "execute_result"
    }
   ],
   "source": [
    "from sklearn.model_selection import train_test_split\n",
    "X_train, X_test, y_train, y_test = train_test_split(X, y, random_state=1, stratify=y)\n",
    "\n",
    "X_train.shape"
   ]
  },
  {
   "cell_type": "markdown",
   "metadata": {},
   "source": [
    "# Oversampling"
   ]
  },
  {
   "cell_type": "markdown",
   "metadata": {},
   "source": [
    "### Naive Random Oversampling"
   ]
  },
  {
   "cell_type": "code",
   "execution_count": 11,
   "metadata": {},
   "outputs": [
    {
     "data": {
      "text/plain": [
       "Counter({'Status': 1})"
      ]
     },
     "execution_count": 11,
     "metadata": {},
     "output_type": "execute_result"
    }
   ],
   "source": [
    "# Resample the training data with the RandomOversampler\n",
    "from imblearn.over_sampling import RandomOverSampler\n",
    "ros = RandomOverSampler(random_state=1)\n",
    "X_resampled, y_resampled = ros.fit_resample(X_train, y_train)\n",
    "\n",
    "Counter(y_resampled)"
   ]
  },
  {
   "cell_type": "code",
   "execution_count": 12,
   "metadata": {},
   "outputs": [
    {
     "data": {
      "text/plain": [
       "LogisticRegression(random_state=1)"
      ]
     },
     "execution_count": 12,
     "metadata": {},
     "output_type": "execute_result"
    }
   ],
   "source": [
    "# Train the Logistic Regression model using the resampled data\n",
    "from sklearn.linear_model import LogisticRegression\n",
    "\n",
    "model = LogisticRegression(solver='lbfgs', random_state=1)\n",
    "model.fit(X_resampled, y_resampled)"
   ]
  },
  {
   "cell_type": "code",
   "execution_count": 13,
   "metadata": {},
   "outputs": [
    {
     "data": {
      "text/plain": [
       "0.5311111111111111"
      ]
     },
     "execution_count": 13,
     "metadata": {},
     "output_type": "execute_result"
    }
   ],
   "source": [
    "# Calculated the balanced accuracy score\n",
    "from sklearn.metrics import balanced_accuracy_score\n",
    "y_pred = model.predict(X_test)\n",
    "balanced_accuracy_score(y_test, y_pred)"
   ]
  },
  {
   "cell_type": "code",
   "execution_count": 14,
   "metadata": {},
   "outputs": [
    {
     "data": {
      "text/plain": [
       "array([[140,  85],\n",
       "       [ 14,  11]], dtype=int64)"
      ]
     },
     "execution_count": 14,
     "metadata": {},
     "output_type": "execute_result"
    }
   ],
   "source": [
    "# Display the confusion matrix\n",
    "from sklearn.metrics import confusion_matrix\n",
    "\n",
    "confusion_matrix(y_test, y_pred)"
   ]
  },
  {
   "cell_type": "code",
   "execution_count": 15,
   "metadata": {},
   "outputs": [
    {
     "data": {
      "text/plain": [
       "0.5311111111111111"
      ]
     },
     "execution_count": 15,
     "metadata": {},
     "output_type": "execute_result"
    }
   ],
   "source": [
    "# Display the confusion matrix\n",
    "from sklearn.metrics import balanced_accuracy_score\n",
    "\n",
    "balanced_accuracy_score(y_test, y_pred)"
   ]
  },
  {
   "cell_type": "code",
   "execution_count": 16,
   "metadata": {},
   "outputs": [
    {
     "name": "stdout",
     "output_type": "stream",
     "text": [
      "                   pre       rec       spe        f1       geo       iba       sup\n",
      "\n",
      "  benchmark       0.91      0.62      0.44      0.74      0.52      0.28       225\n",
      "    extreme       0.11      0.44      0.62      0.18      0.52      0.27        25\n",
      "\n",
      "avg / total       0.83      0.60      0.46      0.68      0.52      0.28       250\n",
      "\n"
     ]
    }
   ],
   "source": [
    "# Print the imbalanced classification report\n",
    "from imblearn.metrics import classification_report_imbalanced\n",
    "print(classification_report_imbalanced(y_test, y_pred))"
   ]
  },
  {
   "cell_type": "markdown",
   "metadata": {},
   "source": [
    "### SMOTE Oversampling"
   ]
  },
  {
   "cell_type": "code",
   "execution_count": 17,
   "metadata": {},
   "outputs": [
    {
     "data": {
      "text/plain": [
       "Counter({'Status': 1})"
      ]
     },
     "execution_count": 17,
     "metadata": {},
     "output_type": "execute_result"
    }
   ],
   "source": [
    "# Resample the training data with SMOTE\n",
    "from imblearn.over_sampling import SMOTE\n",
    "X_resampled, y_resampled = SMOTE(random_state=1, sampling_strategy='auto').fit_resample(\n",
    "    X_train, y_train\n",
    ")\n",
    "Counter(y_resampled)"
   ]
  },
  {
   "cell_type": "code",
   "execution_count": 18,
   "metadata": {},
   "outputs": [
    {
     "data": {
      "text/plain": [
       "LogisticRegression(random_state=1)"
      ]
     },
     "execution_count": 18,
     "metadata": {},
     "output_type": "execute_result"
    }
   ],
   "source": [
    "# Train the Logistic Regression model using the resampled data\n",
    "model = LogisticRegression(solver='lbfgs', random_state=1)\n",
    "model.fit(X_resampled, y_resampled)"
   ]
  },
  {
   "cell_type": "code",
   "execution_count": 19,
   "metadata": {},
   "outputs": [
    {
     "data": {
      "text/plain": [
       "0.5222222222222221"
      ]
     },
     "execution_count": 19,
     "metadata": {},
     "output_type": "execute_result"
    }
   ],
   "source": [
    "# Calculated the balanced accuracy score\n",
    "y_pred = model.predict(X_test)\n",
    "balanced_accuracy_score(y_test, y_pred)"
   ]
  },
  {
   "cell_type": "code",
   "execution_count": 20,
   "metadata": {},
   "outputs": [
    {
     "data": {
      "text/plain": [
       "array([[127,  98],\n",
       "       [ 13,  12]], dtype=int64)"
      ]
     },
     "execution_count": 20,
     "metadata": {},
     "output_type": "execute_result"
    }
   ],
   "source": [
    "# Display the confusion matrix\n",
    "confusion_matrix(y_test, y_pred)"
   ]
  },
  {
   "cell_type": "code",
   "execution_count": 21,
   "metadata": {},
   "outputs": [
    {
     "name": "stdout",
     "output_type": "stream",
     "text": [
      "                   pre       rec       spe        f1       geo       iba       sup\n",
      "\n",
      "  benchmark       0.91      0.56      0.48      0.70      0.52      0.27       225\n",
      "    extreme       0.11      0.48      0.56      0.18      0.52      0.27        25\n",
      "\n",
      "avg / total       0.83      0.56      0.49      0.64      0.52      0.27       250\n",
      "\n"
     ]
    }
   ],
   "source": [
    "# Print the imbalanced classification report\n",
    "print(classification_report_imbalanced(y_test, y_pred))"
   ]
  },
  {
   "cell_type": "markdown",
   "metadata": {},
   "source": [
    "# Undersampling"
   ]
  },
  {
   "cell_type": "code",
   "execution_count": 22,
   "metadata": {},
   "outputs": [
    {
     "data": {
      "text/plain": [
       "Counter({'Status': 1})"
      ]
     },
     "execution_count": 22,
     "metadata": {},
     "output_type": "execute_result"
    }
   ],
   "source": [
    "# Resample the data using the ClusterCentroids resampler\n",
    "from imblearn.under_sampling import ClusterCentroids\n",
    "cc = ClusterCentroids(random_state=1)\n",
    "X_resampled, y_resampled = cc.fit_resample(X_train, y_train)\n",
    "Counter(y_resampled)"
   ]
  },
  {
   "cell_type": "code",
   "execution_count": 23,
   "metadata": {},
   "outputs": [
    {
     "data": {
      "text/plain": [
       "LogisticRegression(random_state=1)"
      ]
     },
     "execution_count": 23,
     "metadata": {},
     "output_type": "execute_result"
    }
   ],
   "source": [
    "# Train the Logistic Regression model using the resampled data\n",
    "from sklearn.linear_model import LogisticRegression\n",
    "model = LogisticRegression(solver='lbfgs', random_state=1)\n",
    "model.fit(X_resampled, y_resampled)\n"
   ]
  },
  {
   "cell_type": "code",
   "execution_count": 24,
   "metadata": {},
   "outputs": [
    {
     "data": {
      "text/plain": [
       "0.52"
      ]
     },
     "execution_count": 24,
     "metadata": {},
     "output_type": "execute_result"
    }
   ],
   "source": [
    "# Calculated the balanced accuracy score\n",
    "from sklearn.metrics import balanced_accuracy_score\n",
    "y_pred = model.predict(X_test)\n",
    "balanced_accuracy_score(y_test, y_pred)"
   ]
  },
  {
   "cell_type": "code",
   "execution_count": 25,
   "metadata": {},
   "outputs": [
    {
     "data": {
      "text/plain": [
       "array([[117, 108],\n",
       "       [ 12,  13]], dtype=int64)"
      ]
     },
     "execution_count": 25,
     "metadata": {},
     "output_type": "execute_result"
    }
   ],
   "source": [
    "# Display the confusion matrix\n",
    "from sklearn.metrics import confusion_matrix\n",
    "y_pred = model.predict(X_test)\n",
    "confusion_matrix(y_test, y_pred)"
   ]
  },
  {
   "cell_type": "code",
   "execution_count": 26,
   "metadata": {},
   "outputs": [
    {
     "name": "stdout",
     "output_type": "stream",
     "text": [
      "                   pre       rec       spe        f1       geo       iba       sup\n",
      "\n",
      "  benchmark       0.91      0.52      0.52      0.66      0.52      0.27       225\n",
      "    extreme       0.11      0.52      0.52      0.18      0.52      0.27        25\n",
      "\n",
      "avg / total       0.83      0.52      0.52      0.61      0.52      0.27       250\n",
      "\n"
     ]
    }
   ],
   "source": [
    "# Print the imbalanced classification report\n",
    "from imblearn.metrics import classification_report_imbalanced\n",
    "print(classification_report_imbalanced(y_test, y_pred))"
   ]
  },
  {
   "cell_type": "markdown",
   "metadata": {},
   "source": [
    "# Combination (Over and Under) Sampling"
   ]
  },
  {
   "cell_type": "code",
   "execution_count": 27,
   "metadata": {},
   "outputs": [
    {
     "data": {
      "text/plain": [
       "Counter({'Status': 1})"
      ]
     },
     "execution_count": 27,
     "metadata": {},
     "output_type": "execute_result"
    }
   ],
   "source": [
    "# Resample the training data with SMOTEENN\n",
    "from imblearn.combine import SMOTEENN\n",
    "\n",
    "smote_enn = SMOTEENN(random_state=1)\n",
    "X_resampled, y_resampled = smote_enn.fit_resample(X, y)\n",
    "\n",
    "Counter(y_resampled)"
   ]
  },
  {
   "cell_type": "code",
   "execution_count": 28,
   "metadata": {},
   "outputs": [
    {
     "data": {
      "text/plain": [
       "LogisticRegression(random_state=1)"
      ]
     },
     "execution_count": 28,
     "metadata": {},
     "output_type": "execute_result"
    }
   ],
   "source": [
    "# Train the Logistic Regression model using the resampled data\n",
    "from sklearn.linear_model import LogisticRegression\n",
    "model = LogisticRegression(solver='lbfgs', random_state=1)\n",
    "model.fit(X_resampled, y_resampled)"
   ]
  },
  {
   "cell_type": "code",
   "execution_count": 29,
   "metadata": {},
   "outputs": [
    {
     "data": {
      "text/plain": [
       "0.5177777777777778"
      ]
     },
     "execution_count": 29,
     "metadata": {},
     "output_type": "execute_result"
    }
   ],
   "source": [
    "# Calculated the balanced accuracy score\n",
    "from sklearn.metrics import balanced_accuracy_score\n",
    "y_pred = model.predict(X_test)\n",
    "balanced_accuracy_score(y_test, y_pred)"
   ]
  },
  {
   "cell_type": "code",
   "execution_count": 30,
   "metadata": {},
   "outputs": [
    {
     "data": {
      "text/plain": [
       "array([[116, 109],\n",
       "       [ 12,  13]], dtype=int64)"
      ]
     },
     "execution_count": 30,
     "metadata": {},
     "output_type": "execute_result"
    }
   ],
   "source": [
    "# Display the confusion matrix\n",
    "from sklearn.metrics import confusion_matrix\n",
    "confusion_matrix(y_test, y_pred)"
   ]
  },
  {
   "cell_type": "code",
   "execution_count": 31,
   "metadata": {},
   "outputs": [
    {
     "name": "stdout",
     "output_type": "stream",
     "text": [
      "                   pre       rec       spe        f1       geo       iba       sup\n",
      "\n",
      "  benchmark       0.91      0.52      0.52      0.66      0.52      0.27       225\n",
      "    extreme       0.11      0.52      0.52      0.18      0.52      0.27        25\n",
      "\n",
      "avg / total       0.83      0.52      0.52      0.61      0.52      0.27       250\n",
      "\n"
     ]
    }
   ],
   "source": [
    "# Print the imbalanced classification report\n",
    "from imblearn.metrics import classification_report_imbalanced\n",
    "print(classification_report_imbalanced(y_test, y_pred))"
   ]
  }
 ],
 "metadata": {
  "kernelspec": {
   "display_name": "mlenv",
   "language": "python",
   "name": "mlenv"
  },
  "language_info": {
   "codemirror_mode": {
    "name": "ipython",
    "version": 3
   },
   "file_extension": ".py",
   "mimetype": "text/x-python",
   "name": "python",
   "nbconvert_exporter": "python",
   "pygments_lexer": "ipython3",
   "version": "3.7.13"
  }
 },
 "nbformat": 4,
 "nbformat_minor": 2
}
